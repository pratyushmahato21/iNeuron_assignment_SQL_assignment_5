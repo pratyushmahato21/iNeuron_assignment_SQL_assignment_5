{
 "cells": [
  {
   "cell_type": "markdown",
   "id": "cb2aa33b",
   "metadata": {},
   "source": [
    "Q-1. Write an SQL query to print details of workers excluding first names, “Vipul” and “Satish” from Worker table."
   ]
  },
  {
   "cell_type": "markdown",
   "id": "366fb077",
   "metadata": {},
   "source": [
    "SELECT * FROM WORKER WHERE first_name != 'Vipul' AND first_name != 'Satish';"
   ]
  },
  {
   "cell_type": "markdown",
   "id": "8d0db8d6",
   "metadata": {},
   "source": [
    "Q-2. Write an SQL query to print details of the Workers whose FIRST_NAME ends with ‘h’ and contains six alphabets."
   ]
  },
  {
   "cell_type": "markdown",
   "id": "0716770a",
   "metadata": {},
   "source": [
    "SELECT * FROM Worker WHERE LEN(first_name) = 6 AND \"first_name\" LIKE '%h';"
   ]
  },
  {
   "cell_type": "markdown",
   "id": "8ab8dec6",
   "metadata": {},
   "source": [
    "Q-3. Write a query to validate Email of Employee."
   ]
  },
  {
   "cell_type": "markdown",
   "id": "49d6c5eb",
   "metadata": {},
   "source": [
    "SELECT * FROM WORKER WHERE \"email\" LIKE '%@%.%';"
   ]
  },
  {
   "cell_type": "code",
   "execution_count": null,
   "id": "1e224729",
   "metadata": {},
   "outputs": [],
   "source": []
  }
 ],
 "metadata": {
  "kernelspec": {
   "display_name": "Python 3 (ipykernel)",
   "language": "python",
   "name": "python3"
  },
  "language_info": {
   "codemirror_mode": {
    "name": "ipython",
    "version": 3
   },
   "file_extension": ".py",
   "mimetype": "text/x-python",
   "name": "python",
   "nbconvert_exporter": "python",
   "pygments_lexer": "ipython3",
   "version": "3.8.12"
  }
 },
 "nbformat": 4,
 "nbformat_minor": 5
}
